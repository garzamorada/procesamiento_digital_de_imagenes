{
  "nbformat": 4,
  "nbformat_minor": 0,
  "metadata": {
    "colab": {
      "provenance": [],
      "collapsed_sections": [
        "v5aFeVRJl5x5",
        "nEyWIEtll5x5",
        "2l3d7a4WgeA3",
        "RSfrtHiZ-vJJ",
        "SuXYKTKFg8yY"
      ]
    },
    "kernelspec": {
      "name": "python3",
      "display_name": "Python 3"
    },
    "language_info": {
      "name": "python"
    }
  },
  "cells": [
    {
      "cell_type": "markdown",
      "source": [
        "#Repaso de Python parte 2\n",
        "\n"
      ],
      "metadata": {
        "id": "04jK5fr6fV8I"
      }
    },
    {
      "cell_type": "markdown",
      "metadata": {
        "id": "v5aFeVRJl5x5"
      },
      "source": [
        "# Condicionales if, elif, else\n",
        "* **Explicación:**\n",
        "  * Los condicionales permiten que tu programa tome decisiones.\n",
        "  * if ejecuta un bloque de código si una condición es verdadera.\n",
        "  * elif (else if) permite verificar condiciones adicionales si la anterior fue falsa.\n",
        "  * else ejecuta un bloque de código si ninguna de las condiciones anteriores fue verdadera."
      ]
    },
    {
      "cell_type": "markdown",
      "source": [
        "###Ejemplos Prácticos:"
      ],
      "metadata": {
        "id": "qTplcF1xezDB"
      }
    },
    {
      "cell_type": "code",
      "execution_count": 20,
      "metadata": {
        "id": "esXT02ptl5x5",
        "colab": {
          "base_uri": "https://localhost:8080/"
        },
        "outputId": "316526ef-c9ec-49fe-d4f1-eff48166b1e4"
      },
      "outputs": [
        {
          "output_type": "stream",
          "name": "stdout",
          "text": [
            "Ingrese un número 5\n",
            "El número es mayor a cero\n",
            "Hola\n"
          ]
        }
      ],
      "source": [
        "# Comparando valor ingresado\n",
        "a = int(input('Ingrese un número '))\n",
        "if (a < 0):\n",
        "    print('El número es menor a cero')\n",
        "elif (a > 0):\n",
        "    print('El número es mayor a cero')\n",
        "else:\n",
        "    print('El número es igual a cero')\n",
        "\n",
        "a = True\n",
        "while a:\n",
        "    print('Hola')\n",
        "    a = False"
      ]
    },
    {
      "cell_type": "code",
      "source": [
        "# Comparando tipo de datos\n",
        "a = 10\n",
        "b = 'pintura'\n",
        "if (type(a) == type(b)):\n",
        "    print('a y b son del mismo tipo de dato')\n",
        "else:\n",
        "    print('a y b son de tipos de dato diferentes')"
      ],
      "metadata": {
        "colab": {
          "base_uri": "https://localhost:8080/"
        },
        "id": "oe8CF6WEfJCw",
        "outputId": "1b9f5c51-2a29-4276-a2a9-f560e73f4b01"
      },
      "execution_count": 21,
      "outputs": [
        {
          "output_type": "stream",
          "name": "stdout",
          "text": [
            "a y b son de tipos de dato diferentes\n"
          ]
        }
      ]
    },
    {
      "cell_type": "code",
      "source": [
        "# Calculadora simple\n",
        "operacion = input(\"¿Qué operación quieres hacer? (+, -, *, /): \")\n",
        "num1 = float(input(\"Ingresa el primer número: \"))\n",
        "num2 = float(input(\"Ingresa el segundo número: \"))\n",
        "\n",
        "if operacion == \"+\":\n",
        "    resultado = num1 + num2\n",
        "elif operacion == \"-\":\n",
        "    resultado = num1 - num2\n",
        "elif operacion == \"*\":\n",
        "    resultado = num1 * num2\n",
        "elif operacion == \"/\":\n",
        "    if num2 == 0:\n",
        "        resultado = \"Error: No se puede dividir por cero\"\n",
        "    else:\n",
        "        resultado = num1 / num2\n",
        "else:\n",
        "    resultado = \"Operación no válida\"\n",
        "\n",
        "print(\"Resultado:\", resultado)"
      ],
      "metadata": {
        "colab": {
          "base_uri": "https://localhost:8080/"
        },
        "id": "lzmAB-eVe7Gg",
        "outputId": "c978f16e-f5d5-4191-81da-34b7794620fa"
      },
      "execution_count": 22,
      "outputs": [
        {
          "output_type": "stream",
          "name": "stdout",
          "text": [
            "¿Qué operación quieres hacer? (+, -, *, /): *\n",
            "Ingresa el primer número: 5\n",
            "Ingresa el segundo número: 5\n",
            "Resultado: 25.0\n"
          ]
        }
      ]
    },
    {
      "cell_type": "code",
      "source": [
        "# Verificar si un año es bisiesto\n",
        "año = int(input(\"Ingresa un año: \"))\n",
        "\n",
        "if (año % 4 == 0 and año % 100 != 0) or año % 400 == 0:\n",
        "    print(año, \"es un año bisiesto\")\n",
        "else:\n",
        "    print(año, \"no es un año bisiesto\")"
      ],
      "metadata": {
        "colab": {
          "base_uri": "https://localhost:8080/"
        },
        "id": "IAwRRp2SfC64",
        "outputId": "8c1f78c9-454f-40ab-9372-39851d000990"
      },
      "execution_count": 23,
      "outputs": [
        {
          "output_type": "stream",
          "name": "stdout",
          "text": [
            "Ingresa un año: 2024\n",
            "2024 es un año bisiesto\n"
          ]
        }
      ]
    },
    {
      "cell_type": "code",
      "execution_count": 23,
      "metadata": {
        "id": "RdR8ZTl0l5x5"
      },
      "outputs": [],
      "source": []
    },
    {
      "cell_type": "markdown",
      "source": [
        "##Control de errores: try, except\n",
        "**Uso de try en Python**\n",
        "\n",
        "try se utiliza para manejar excepciones (errores) en Python.\n",
        "Permite ejecutar un bloque de código que podría generar un error, y si ocurre un error, en lugar de que el programa se detenga, se ejecuta un bloque de código alternativo.\n",
        "La estructura básica es try-except\n",
        "\n"
      ],
      "metadata": {
        "id": "vTnjElqamZVf"
      }
    },
    {
      "cell_type": "markdown",
      "source": [
        "###Ejemplo:"
      ],
      "metadata": {
        "id": "UVcZz-A3mmdt"
      }
    },
    {
      "cell_type": "code",
      "source": [
        "try:\n",
        "    num = int(input(\"Ingresa un número: \"))  # Esto podría generar un ValueError si el usuario no ingresa un número\n",
        "    resultado = 10 / num  # Esto podría generar un ZeroDivisionError si el usuario ingresa 0\n",
        "    print(\"El resultado es:\", resultado)\n",
        "except ValueError:\n",
        "    print(\"Error: Debes ingresar un número válido.\")\n",
        "    resutado=0\n",
        "except ZeroDivisionError:\n",
        "    print(\"Error: No se puede dividir por cero.\")\n",
        "    resutado=0\n",
        "except Exception as e:  # Captura cualquier otra excepción\n",
        "    print(\"Ocurrió un error:\", e)\n",
        "    resutado=0"
      ],
      "metadata": {
        "colab": {
          "base_uri": "https://localhost:8080/"
        },
        "id": "d39iyiLampf9",
        "outputId": "1190a7f5-01fc-4219-b5db-62fbe7237453"
      },
      "execution_count": 24,
      "outputs": [
        {
          "output_type": "stream",
          "name": "stdout",
          "text": [
            "Ingresa un número: 6\n",
            "El resultado es: 1.6666666666666667\n"
          ]
        }
      ]
    },
    {
      "cell_type": "markdown",
      "metadata": {
        "id": "nEyWIEtll5x5"
      },
      "source": [
        "# Ciclos for y while\n",
        "* **Explicación:**\n",
        "    * Los bucles permiten repetir un bloque de código múltiples veces.\n",
        "    * `for` se usa para iterar sobre una secuencia (lista, tupla, cadena, rango). [cite: 11, 12, 13, 14, 15, 16, 17, 18, 19, 20]\n",
        "    * `while` se usa para repetir un bloque de código mientras una condición sea verdadera. [cite: 19, 20, 21, 22, 23, 24, 25, 26]"
      ]
    },
    {
      "cell_type": "markdown",
      "source": [
        "###Ciclo for\n",
        "El **ciclo for** se usa cuando sabes de antemano cuántas veces deseas ejecutar un bloque de código, o cuando necesitas iterar sobre una secuencia de elementos (como una lista, una cadena, un rango, etc.)."
      ],
      "metadata": {
        "id": "JgoVy7qopTMY"
      }
    },
    {
      "cell_type": "markdown",
      "source": [
        "####Ejemplos Practicos"
      ],
      "metadata": {
        "id": "uGDgRYRbhQ9b"
      }
    },
    {
      "cell_type": "code",
      "execution_count": 25,
      "metadata": {
        "id": "9ns5AO6xl5x5",
        "colab": {
          "base_uri": "https://localhost:8080/"
        },
        "outputId": "8d02126e-bae3-48b1-bce5-02f5ef60f3b7"
      },
      "outputs": [
        {
          "output_type": "stream",
          "name": "stdout",
          "text": [
            "El número  0  es par\n",
            "El número  1  es impar\n",
            "El número  2  es par\n",
            "El número  3  es impar\n",
            "El número  4  es par\n",
            "El número  5  es impar\n",
            "El número  6  es par\n",
            "El número  7  es impar\n",
            "El número  8  es par\n",
            "El número  9  es impar\n",
            "El número  10  es par\n",
            "El número  11  es impar\n",
            "El número  12  es par\n",
            "El número  13  es impar\n",
            "El número  14  es par\n",
            "El número  15  es impar\n",
            "El número  16  es par\n",
            "El número  17  es impar\n",
            "El número  18  es par\n",
            "El número  19  es impar\n",
            "El número  20  es par\n"
          ]
        }
      ],
      "source": [
        "## Comprobar si números son pares o impares\n",
        "\n",
        "for i in range(21):\n",
        "    if (i % 2 == 0):\n",
        "        print('El número ',i, ' es par')\n",
        "    else:\n",
        "        print('El número ',i, ' es impar')"
      ]
    },
    {
      "cell_type": "code",
      "source": [
        "# Sumar los elementos de una lista\n",
        "numeros = [1, 2, 3, 4, 5]\n",
        "suma = 0\n",
        "\n",
        "for num in numeros:\n",
        "    suma += num\n",
        "\n",
        "print(\"La suma es:\", suma)"
      ],
      "metadata": {
        "colab": {
          "base_uri": "https://localhost:8080/"
        },
        "id": "rRtMmgh_hsUi",
        "outputId": "a6e12f10-e296-4f39-b492-52d27024a117"
      },
      "execution_count": 26,
      "outputs": [
        {
          "output_type": "stream",
          "name": "stdout",
          "text": [
            "La suma es: 15\n"
          ]
        }
      ]
    },
    {
      "cell_type": "code",
      "execution_count": 27,
      "metadata": {
        "id": "QEQ5Agp94Ers",
        "colab": {
          "base_uri": "https://localhost:8080/"
        },
        "outputId": "03c51a66-2fce-4f0e-c9d8-bb1ccbe9162a"
      },
      "outputs": [
        {
          "output_type": "stream",
          "name": "stdout",
          "text": [
            "nombre andres, edad 49\n",
            "nombre pedro, edad 30\n",
            "nombre juan, edad 20\n"
          ]
        }
      ],
      "source": [
        "# ciclo for para recorrer listas\n",
        "\n",
        "cadena = 'Python'\n",
        "lista=[{'nombre':'andres','edad':49},{'nombre':'pedro','edad':30},{'nombre':'juan','edad':20}]\n",
        "\n",
        "for fila in lista:\n",
        "    print(f\"nombre {fila['nombre']}, edad {fila['edad']}\")\n"
      ]
    },
    {
      "cell_type": "markdown",
      "source": [
        "###Ciclo while\n",
        "El **ciclo while** se usa cuando quieres repetir un bloque de código mientras una condición sea verdadera. Es útil cuando no sabes de antemano cuántas veces se ejecutará el ciclo, sino que depende de una condición que puede cambiar durante la ejecución del ciclo."
      ],
      "metadata": {
        "id": "Ab3x2nn1t5SH"
      }
    },
    {
      "cell_type": "markdown",
      "source": [
        "####Ejemplos Prácticos:"
      ],
      "metadata": {
        "id": "fH2jQijvhhBU"
      }
    },
    {
      "cell_type": "code",
      "execution_count": 28,
      "metadata": {
        "id": "_YKZIrMol5x6",
        "colab": {
          "base_uri": "https://localhost:8080/"
        },
        "outputId": "ff7f336e-266f-4d54-974f-0321ca267610"
      },
      "outputs": [
        {
          "output_type": "stream",
          "name": "stdout",
          "text": [
            "El numero 1 es impar\n",
            "El numero 2 es par\n",
            "El numero 3 es impar\n",
            "El numero 4 es par\n",
            "El numero 5 es impar\n",
            "El numero 6 es par\n",
            "El numero 7 es impar\n",
            "El numero 8 es par\n",
            "El numero 9 es impar\n",
            "El numero 10 es par\n",
            "El numero 11 es impar\n",
            "El numero 12 es par\n",
            "El numero 13 es impar\n",
            "El numero 14 es par\n",
            "El numero 15 es impar\n",
            "El numero 16 es par\n",
            "El numero 17 es impar\n",
            "El numero 18 es par\n",
            "El numero 19 es impar\n",
            "El numero 20 es par\n"
          ]
        }
      ],
      "source": [
        "# El mismo ejemplo anterior, pero resuelto con un ciclo while\n",
        "# resuelto con while\n",
        "\n",
        "i=1\n",
        "while (i <= 20):\n",
        "    if (i % 2 == 0):\n",
        "        print('El numero' ,i, 'es par')\n",
        "    else:\n",
        "        print('El numero' ,i, 'es impar')\n",
        "    i = i + 1"
      ]
    },
    {
      "cell_type": "markdown",
      "source": [
        "Sentencias break y continue\n"
      ],
      "metadata": {
        "id": "B_WhDA454QNB"
      }
    },
    {
      "cell_type": "code",
      "source": [
        "# break en ciclo while\n",
        "\n",
        "x = 5\n",
        "while x > 0:\n",
        "    x -= 1 # x = x - 1\n",
        "    print(x)\n",
        "    if x == 0:\n",
        "        break\n",
        "print(\"Fin del bucle\")\n"
      ],
      "metadata": {
        "id": "y8Uirhis4ldW",
        "colab": {
          "base_uri": "https://localhost:8080/"
        },
        "outputId": "057508c0-658c-47ea-a38d-fbf3a14a62dc"
      },
      "execution_count": 29,
      "outputs": [
        {
          "output_type": "stream",
          "name": "stdout",
          "text": [
            "4\n",
            "3\n",
            "2\n",
            "1\n",
            "0\n",
            "Fin del bucle\n"
          ]
        }
      ]
    },
    {
      "cell_type": "code",
      "source": [
        "# continue\n",
        "cadena = 'Python'\n",
        "for letra in cadena:\n",
        "    if letra == 'P' or letra == 'o':\n",
        "        continue\n",
        "\n",
        "    print(letra)"
      ],
      "metadata": {
        "id": "rnehgPY-45r2",
        "colab": {
          "base_uri": "https://localhost:8080/"
        },
        "outputId": "2c404136-e3a7-4d16-f8f5-0f49df879ec2"
      },
      "execution_count": 30,
      "outputs": [
        {
          "output_type": "stream",
          "name": "stdout",
          "text": [
            "y\n",
            "t\n",
            "h\n",
            "n\n"
          ]
        }
      ]
    },
    {
      "cell_type": "code",
      "source": [
        "# Juego de adivinar un número\n",
        "import random\n",
        "\n",
        "numero_secreto = random.randint(1, 100)\n",
        "intentos = 0\n",
        "\n",
        "while True:\n",
        "    intento = int(input(\"Adivina el número (entre 1 y 100): \"))\n",
        "    intentos += 1\n",
        "\n",
        "    if intento < numero_secreto:\n",
        "        print(\"Demasiado bajo\")\n",
        "    elif intento > numero_secreto:\n",
        "        print(\"Demasiado alto\")\n",
        "    else:\n",
        "        print(\"¡Correcto! Adivinaste en\", intentos, \"intentos\")\n",
        "        break"
      ],
      "metadata": {
        "colab": {
          "base_uri": "https://localhost:8080/"
        },
        "id": "5OOq3mW-il14",
        "outputId": "d9e1a749-a8f3-4f2e-fab0-8b3338d91435"
      },
      "execution_count": 32,
      "outputs": [
        {
          "output_type": "stream",
          "name": "stdout",
          "text": [
            "Adivina el número (entre 1 y 100): 50\n",
            "Demasiado alto\n",
            "Adivina el número (entre 1 y 100): 5\n",
            "Demasiado bajo\n",
            "Adivina el número (entre 1 y 100): 20\n",
            "Demasiado bajo\n",
            "Adivina el número (entre 1 y 100): 30\n",
            "Demasiado bajo\n",
            "Adivina el número (entre 1 y 100): 40\n",
            "Demasiado bajo\n",
            "Adivina el número (entre 1 y 100): 45\n",
            "Demasiado bajo\n",
            "Adivina el número (entre 1 y 100): 48\n",
            "Demasiado alto\n",
            "Adivina el número (entre 1 y 100): 47\n",
            "Demasiado alto\n",
            "Adivina el número (entre 1 y 100): 46\n",
            "¡Correcto! Adivinaste en 9 intentos\n"
          ]
        }
      ]
    },
    {
      "cell_type": "markdown",
      "source": [
        "###**Uso de Banderas (flags)**\n",
        "En lugar de **break** y **continue** una buena practica es el uso de variables **banderas**\n",
        "\n",
        "**¿Qué es una variable tipo \"flag\"?**\n",
        "\n",
        "Una variable tipo \"flag\" (bandera en español) es una variable que se utiliza para indicar si una condición particular ha ocurrido o no.\n",
        "Por lo general, las variables flag toman valores booleanos: True o False.\n",
        "El nombre \"flag\" viene de la idea de una bandera que se levanta o se baja para señalar algo.\n",
        "\n",
        "**¿Cómo se usa una variable flag en un bucle while?**\n",
        "\n",
        "Las variables flag se usan principalmente para controlar la ejecución de un **bucle while**.  Hay dos formas comunes de usarlas:\n",
        "\n",
        "* Para que el bucle while se ejecute hasta que la flag cambie:\n",
        "  * Inicializas la flag en **False**.\n",
        "  * El bucle while se ejecuta mientras la flag sea True.\n",
        "  * Dentro del bucle, estableces la flag en **True** cuando ocurre la condición que quieres que detenga el bucle.\n",
        "\n",
        "* Para que el bucle while se ejecute mientras la flag sea verdadera:\n",
        "  * Inicializas la flag en **True**.\n",
        "  * El bucle while continúa ejecutándose mientras la flag sea True.\n",
        "  * Dentro del bucle, cambias el valor de la flag a **False** cuando se cumple una determinada condición y quieres detener la ejecución del bucle.\n",
        "\n"
      ],
      "metadata": {
        "id": "2aMQsFa3iqFn"
      }
    },
    {
      "cell_type": "markdown",
      "source": [
        "####Ejemplos:"
      ],
      "metadata": {
        "id": "bSIL0cLlk7MM"
      }
    },
    {
      "cell_type": "code",
      "source": [
        "# Ejemplo Flag iniciada en False: Buscar un número en una lista\n",
        "numeros = [10, 25, 5, 32, 18]\n",
        "objetivo = 32\n",
        "encontrado = False  # Flag inicializada en False\n",
        "indice = 0\n",
        "\n",
        "while not encontrado and indice < len(numeros):\n",
        "    if numeros[indice] == objetivo:\n",
        "        encontrado = True  # Cambiamos la flag a True\n",
        "    else:\n",
        "        indice += 1\n",
        "\n",
        "if encontrado:\n",
        "    print(\"El número\", objetivo, \"se encontró en el índice\", indice)\n",
        "else:\n",
        "    print(\"El número\", objetivo, \"no se encontró en la lista\")"
      ],
      "metadata": {
        "colab": {
          "base_uri": "https://localhost:8080/"
        },
        "id": "q4K__L7nk-Gh",
        "outputId": "319b33d4-6f16-414c-868a-f90d263f068f"
      },
      "execution_count": 33,
      "outputs": [
        {
          "output_type": "stream",
          "name": "stdout",
          "text": [
            "El número 32 se encontró en el índice 3\n"
          ]
        }
      ]
    },
    {
      "cell_type": "code",
      "source": [
        "# Ejemplo Flag iniciada en True: Pedir números al usuario hasta que ingrese uno negativo\n",
        "continuar = True  # La flag controla el bucle\n",
        "suma = 0\n",
        "contador = 0\n",
        "\n",
        "while continuar:\n",
        "    numero = float(input(\"Ingresa un número (negativo para terminar): \"))\n",
        "    if numero < 0:\n",
        "        continuar = False  # El usuario ingresó un negativo, se detiene el bucle\n",
        "    else:\n",
        "        suma += numero\n",
        "        contador += 1\n",
        "\n",
        "if contador > 0:\n",
        "    print(\"La suma de los números ingresados es:\", suma)\n",
        "    print(\"El promedio es:\", suma / contador)"
      ],
      "metadata": {
        "colab": {
          "base_uri": "https://localhost:8080/"
        },
        "id": "misfCSBClO64",
        "outputId": "a514e2dd-d766-47ff-ef4b-3e463040ee6d"
      },
      "execution_count": 34,
      "outputs": [
        {
          "name": "stdout",
          "output_type": "stream",
          "text": [
            "Ingresa un número (negativo para terminar): -1\n"
          ]
        }
      ]
    },
    {
      "cell_type": "markdown",
      "source": [
        "# Funciones\n",
        "* **Explicación:**\n",
        "    * Las funciones son bloques de código reutilizables que realizan una tarea específica.\n",
        "    * Ayudan a organizar el código, hacerlo más legible y evitar la repetición."
      ],
      "metadata": {
        "id": "2l3d7a4WgeA3"
      }
    },
    {
      "cell_type": "markdown",
      "source": [
        "##Ejemplos Prácticos:"
      ],
      "metadata": {
        "id": "h4oqdRXznfDd"
      }
    },
    {
      "cell_type": "code",
      "source": [
        "def Mifuncion(nombre,edad=20):\n",
        "  print(f\"Hola {nombre}, tu edad es {edad}\")\n",
        "\n",
        "Mifuncion(\"Juan\",30)\n"
      ],
      "metadata": {
        "id": "h6P4x83O4IPx"
      },
      "execution_count": null,
      "outputs": []
    },
    {
      "cell_type": "code",
      "source": [
        "# Función para calcular el área de un círculo\n",
        "import math\n",
        "def area_circulo(radio):\n",
        "    return math.pi * radio**2\n",
        "\n",
        "radio = float(input(\"Ingresa el radio del círculo: \"))\n",
        "area = area_circulo(radio)\n",
        "print(\"El área del círculo es:\", area)"
      ],
      "metadata": {
        "id": "9wpJXiG5nlxF"
      },
      "execution_count": null,
      "outputs": []
    },
    {
      "cell_type": "markdown",
      "source": [
        "## Mas de un camino para el mismo resultado\n",
        "\n",
        "En programación pueden existir distintas formas de lograr el mismo resultado, algunas mas eficientes otras mas \"elegantes\" pero todas correctas."
      ],
      "metadata": {
        "id": "nxaaIz6dn8iC"
      }
    },
    {
      "cell_type": "markdown",
      "source": [
        "###Ejemplo:"
      ],
      "metadata": {
        "id": "gq61LTntoUHh"
      }
    },
    {
      "cell_type": "code",
      "source": [
        "#Ejemplo de bucle por tres metodos distintos\n",
        "\n",
        "numero = 5\n",
        "\n",
        "# Factorial de numero con un bucle for\n",
        "factorial_for = 1\n",
        "for i in range(1, numero+1):\n",
        "  factorial_for *= i\n",
        "print(f\"Factorial de {numero} (for): {factorial_for}\")\n",
        "\n",
        "# Factorial de numero con un bucle while\n",
        "factorial_while = 1\n",
        "i = 1\n",
        "while i <= numero:\n",
        "  factorial_while *= i\n",
        "  i += 1\n",
        "print(f\"Factorial de {numero} (while): {factorial_while}\")\n",
        "\n",
        "# Factorial de numero con una función recursiva\n",
        "def factorial_recursive(n):\n",
        "  if n == 0:\n",
        "    return 1\n",
        "  else:\n",
        "    return n * factorial_recursive(n-1)\n",
        "\n",
        "factorial_rec = factorial_recursive(numero)\n",
        "print(f\"Factorial de {numero} (recursivo): {factorial_rec}\")\n"
      ],
      "metadata": {
        "id": "CE9GTkGsAzvu"
      },
      "execution_count": null,
      "outputs": []
    },
    {
      "cell_type": "markdown",
      "source": [
        "#Clases y objetos (POO)\n",
        "* **Explicación:**\n",
        "    * La Programación Orientada a Objetos (POO) es un paradigma de programación que organiza el código en \"objetos\", que combinan datos (atributos) y funciones (métodos).\n",
        "    * Una clase es como un \"molde\" para crear objetos.\n",
        "    * Un objeto es una \"instancia\" de una clase."
      ],
      "metadata": {
        "id": "RSfrtHiZ-vJJ"
      }
    },
    {
      "cell_type": "markdown",
      "source": [
        "##Ejemplos Prácticos:"
      ],
      "metadata": {
        "id": "k06a3n9gorc4"
      }
    },
    {
      "cell_type": "code",
      "source": [
        "# Creamos la clase Vehiculo\n",
        "# El método especial __init__ es el constructor de la clase y se llama automáticamente cuando se crea una nueva instancia de la clase.\n",
        "# Recibe tres parámetros: color, tipo y cilindrada. La variable self se refiere al objeto actual (la instancia de la clase Vehiculo).\n",
        "# Los parámetros color, tipo y cilindrada se asignan a los atributos correspondientes del objeto.\n",
        "\n",
        "class Vehiculo:\n",
        "    def __init__(self, color, tipo, cilindrada):\n",
        "        self.color = color\n",
        "        self.tipo = tipo\n",
        "        self.cilindrada = cilindrada"
      ],
      "metadata": {
        "id": "Sh6tQbod-zW5"
      },
      "execution_count": 36,
      "outputs": []
    },
    {
      "cell_type": "code",
      "source": [
        "# A la clase Vehículo le agregamos métodos\n",
        "class Vehiculo:\n",
        "    def __init__(self, color, tipo, cilindrada):\n",
        "        self.color = color\n",
        "        self.tipo = tipo\n",
        "        self.cilindrada = cilindrada\n",
        "        self.velocidad = 0\n",
        "        self.direccion = 0\n",
        "\n",
        "    def Acelerar(self, vel):  # El método Acelerar recibe un parámetro \"vel\" que representa la velocidad a aumentar.\n",
        "        self.velocidad += vel   # Aumenta la velocidad actual del vehículo sumando el valor de \"vel\" al atributo \"velocidad\".\n",
        "\n",
        "    def Frenar(self, vel): # El método Frenar recibe un parámetro \"vel\" que representa la velocidad a disminuir.\n",
        "        self.velocidad -= vel # Disminuye la velocidad actual del vehículo restando el valor de \"vel\" al atributo \"velocidad\".\n",
        "\n",
        "    def Doblar(self, grados):  # El método Doblar recibe un parámetro \"grados\" que representa la cantidad de grados para girar.\n",
        "        self.direccion += grados # Actualiza la dirección del vehículo sumando el valor de \"grados\" al atributo \"direccion\""
      ],
      "metadata": {
        "id": "4W8cMPXMObkA"
      },
      "execution_count": 39,
      "outputs": []
    },
    {
      "cell_type": "code",
      "source": [
        "# Instanciar 3 objetos de la clase vehículo\n",
        "\n",
        "a1 = Vehiculo('rojo', 'auto', 2)  # Creación de un objeto \"Vehiculo\" con color rojo, tipo auto y cilindrada 2.\n",
        "a2 = Vehiculo('blanco', 'camioneta', 3.6)  # Creación de un objeto \"Vehiculo\" con color blanco, tipo camioneta y cilindrada 3.6.\n",
        "a3 = Vehiculo('negro', 'moto', 1)  # Creación de un objeto \"Vehiculo\" con color negro, tipo moto y cilindrada 1."
      ],
      "metadata": {
        "id": "HbRYcjy3RKOA"
      },
      "execution_count": 40,
      "outputs": []
    },
    {
      "cell_type": "code",
      "source": [
        "# Ejecutar en estos objetos los métodos anteriormente creados\n",
        "a1.Acelerar(40)  # Llamada al método \"Acelerar\" del objeto \"a1\" para aumentar la velocidad en 40.\n",
        "a2.Acelerar(60)  # Llamada al método \"Acelerar\" del objeto \"a2\" para aumentar la velocidad en 60.\n",
        "a3.Acelerar(30)  # Llamada al método \"Acelerar\" del objeto \"a3\" para aumentar la velocidad en 30.\n",
        "\n",
        "a1.Doblar(30)  # Llamada al método \"Doblar\" del objeto \"a1\" para girar la dirección en 30 grados.\n",
        "a3.Doblar(-30)  # Llamada al método \"Doblar\" del objeto \"a3\" para girar la dirección en -30 grados.\n",
        "\n",
        "a2.Frenar(-50)  # Llamada al método \"Frenar\" del objeto \"a2\" para disminuir la velocidad en -50."
      ],
      "metadata": {
        "id": "bv5xf1RpRo5l"
      },
      "execution_count": 41,
      "outputs": []
    },
    {
      "cell_type": "code",
      "source": [
        "# Agregar a la clase Vehiculo, métodos que muestren su estado (velocidad y dirección). Y otro método que muestre color, tipo y cilindrada\n",
        "\n",
        "\n",
        "class Vehiculo:\n",
        "    def __init__(self, color, tipo, cilindrada):\n",
        "        self.color = color\n",
        "        self.tipo = tipo\n",
        "        self.cilindrada = cilindrada\n",
        "        self.velocidad = 0\n",
        "        self.direccion = 0\n",
        "\n",
        "    def Acelerar(self, vel):\n",
        "        self.velocidad += vel\n",
        "\n",
        "    def Frenar(self, vel):\n",
        "        self.velocidad -= vel\n",
        "\n",
        "    def Doblar(self, grados):\n",
        "        self.direccion += grados\n",
        "\n",
        "    def Estado(self):\n",
        "        print('Velocidad:', self.velocidad, '- Dirección:', self.direccion)\n",
        "\n",
        "    def Detalle(self):\n",
        "        print('Soy', self.tipo, 'de color', self.color, 'y mi cilindrada es de', self.cilindrada, 'litros')\n",
        "\n",
        "    def Estado(self): #Método para imprimir el estado actual del vehículo.\n",
        "            print('Velocidad:', self.velocidad, '- Dirección:', self.direccion) #Muestra la velocidad y dirección.\n",
        "\n",
        "    def Detalle(self): #Método para imprimir los detalles del vehículo.\n",
        "            print('Soy', self.tipo, 'de color', self.color, 'y mi cilindrada es de', self.cilindrada, 'litros')"
      ],
      "metadata": {
        "id": "amChou_ASF7k"
      },
      "execution_count": 42,
      "outputs": []
    },
    {
      "cell_type": "code",
      "source": [
        "# Probamos los métodos creados en una instancia (objeto creado de la clase)\n",
        "a1 = Vehiculo('rojo', 'auto', 2)\n",
        "a1.Detalle()"
      ],
      "metadata": {
        "id": "nYzQmBBqUGDb",
        "colab": {
          "base_uri": "https://localhost:8080/"
        },
        "outputId": "ff1277a2-67a6-4e0f-e875-53029d652a5a"
      },
      "execution_count": 43,
      "outputs": [
        {
          "output_type": "stream",
          "name": "stdout",
          "text": [
            "Soy auto de color rojo y mi cilindrada es de 2 litros\n"
          ]
        }
      ]
    },
    {
      "cell_type": "code",
      "source": [
        "a1.Estado() # verificamos el estado del vehículo a1\n",
        "a1.Acelerar(30) # Utilizamos su método acelerar\n",
        "a1.Estado() # volvemos a verificar su estado"
      ],
      "metadata": {
        "id": "FoL_9j1tYU-e",
        "colab": {
          "base_uri": "https://localhost:8080/"
        },
        "outputId": "4112fdd8-3bb2-424e-eb43-5f6104228a1a"
      },
      "execution_count": 44,
      "outputs": [
        {
          "output_type": "stream",
          "name": "stdout",
          "text": [
            "Velocidad: 0 - Dirección: 0\n",
            "Velocidad: 30 - Dirección: 0\n"
          ]
        }
      ]
    },
    {
      "cell_type": "code",
      "source": [
        "# Herencia\n",
        "# Creamos clase Persona, definimos sus métodos __init__ e imprimir, y sus dos atributos nombre y edad:\n",
        "class Persona:\n",
        "\n",
        "    def __init__(self):\n",
        "        self.nombre=input(\"Ingrese el nombre:\")\n",
        "        self.edad=int(input(\"Ingrese la edad:\"))\n",
        "\n",
        "    def imprimir(self):\n",
        "        print(\"Nombre:\",self.nombre)\n",
        "        print(\"Edad:\",self.edad)\n",
        "\n",
        "# Creamos clase Empleado que hereda los atributos de Persona y además le agregamos el atributo sueldo\n",
        "\n",
        "class Empleado(Persona):\n",
        "\n",
        "    def __init__(self):\n",
        "        super().__init__() # con super podemos llamar al método __init__ de la clase padre.\n",
        "        self.sueldo=float(input(\"Ingrese el sueldo:\"))\n",
        "\n",
        "    def imprimir(self):\n",
        "        super().imprimir() # volvemos a usar super, ahora para llamar al método imprimir de la clase padre\n",
        "        print(\"Sueldo:\",self.sueldo)\n",
        "\n",
        "    def paga_impuestos(self):\n",
        "        if self.sueldo>3000:\n",
        "            print(\"El empleado debe pagar impuestos\")\n",
        "        else:\n",
        "            print(\"No paga impuestos\")\n",
        "# bloque principal\n",
        "\n",
        "persona1=Persona()\n",
        "persona1.imprimir()\n",
        "print(\"____________________________\")\n",
        "empleado1=Empleado()\n",
        "empleado1.imprimir()\n",
        "empleado1.paga_impuestos()\n",
        "\n"
      ],
      "metadata": {
        "id": "n9NgwFM1ZeVx",
        "colab": {
          "base_uri": "https://localhost:8080/"
        },
        "outputId": "afa7345d-b125-48aa-8bae-b38b7c6829a0"
      },
      "execution_count": 45,
      "outputs": [
        {
          "output_type": "stream",
          "name": "stdout",
          "text": [
            "Ingrese el nombre:andres\n",
            "Ingrese la edad:35\n",
            "Nombre: andres\n",
            "Edad: 35\n",
            "____________________________\n",
            "Ingrese el nombre:pedro\n",
            "Ingrese la edad:50\n",
            "Ingrese el sueldo:1000\n",
            "Nombre: pedro\n",
            "Edad: 50\n",
            "Sueldo: 1000.0\n",
            "No paga impuestos\n"
          ]
        }
      ]
    },
    {
      "cell_type": "markdown",
      "source": [
        "# Rutas a archivos - Rutas relativas y absolutas - Uso de os.chdir()"
      ],
      "metadata": {
        "id": "SuXYKTKFg8yY"
      }
    },
    {
      "cell_type": "code",
      "source": [
        "#Descargo un dataset de ejemplo con wget\n",
        "!wget https://cdn.buenosaires.gob.ar/datosabiertos/datasets/ministerio-de-educacion/establecimientos-educativos/establecimientos_educativos_WGS84.csv\n"
      ],
      "metadata": {
        "id": "RCWSZ1NgeNbB",
        "colab": {
          "base_uri": "https://localhost:8080/"
        },
        "outputId": "e4922388-0460-4f61-b4c5-81cfb868c25e"
      },
      "execution_count": 46,
      "outputs": [
        {
          "output_type": "stream",
          "name": "stdout",
          "text": [
            "--2025-04-15 18:15:10--  https://cdn.buenosaires.gob.ar/datosabiertos/datasets/ministerio-de-educacion/establecimientos-educativos/establecimientos_educativos_WGS84.csv\n",
            "Resolving cdn.buenosaires.gob.ar (cdn.buenosaires.gob.ar)... 200.16.89.97\n",
            "Connecting to cdn.buenosaires.gob.ar (cdn.buenosaires.gob.ar)|200.16.89.97|:443... connected.\n",
            "HTTP request sent, awaiting response... 200 OK\n",
            "Length: 1715407 (1.6M) [text/csv]\n",
            "Saving to: ‘establecimientos_educativos_WGS84.csv.1’\n",
            "\n",
            "establecimientos_ed 100%[===================>]   1.64M   470KB/s    in 3.6s    \n",
            "\n",
            "2025-04-15 18:15:15 (470 KB/s) - ‘establecimientos_educativos_WGS84.csv.1’ saved [1715407/1715407]\n",
            "\n"
          ]
        }
      ]
    },
    {
      "cell_type": "code",
      "source": [
        "#importo pandas\n",
        "import pandas as pd\n",
        "\n",
        "# En Colab, clic en carpeta \"Archivos\". Subir archivo. Clic derecho sobre el mismo, copiar ruta. Pegamos esa como lo muestra el código:\n",
        "escuelas = pd.read_csv('/content/establecimientos_educativos_WGS84.csv', encoding = \"utf-8\", sep = \";\")"
      ],
      "metadata": {
        "id": "l-iP59HnPC_y"
      },
      "execution_count": 47,
      "outputs": []
    },
    {
      "cell_type": "code",
      "source": [
        "escuelas"
      ],
      "metadata": {
        "id": "D0BPb540gwFw",
        "colab": {
          "base_uri": "https://localhost:8080/",
          "height": 892
        },
        "outputId": "52e3574c-5cb8-44ba-9e12-86923e75c7b0"
      },
      "execution_count": 48,
      "outputs": [
        {
          "output_type": "execute_result",
          "data": {
            "text/plain": [
              "                                                    WKT    id     cui  \\\n",
              "0     MULTIPOINT ((-58.4280631417123 -34.66077257316...     1  200852   \n",
              "1     MULTIPOINT ((-58.4328765952925 -34.64814147013...     2  200871   \n",
              "2     MULTIPOINT ((-58.4087767199078 -34.58565084604...     3  200014   \n",
              "3     MULTIPOINT ((-58.4328765952925 -34.64814147013...     4  200871   \n",
              "4     MULTIPOINT ((-58.4614370361421 -34.62830726222...     5  200585   \n",
              "...                                                 ...   ...     ...   \n",
              "3040  MULTIPOINT ((-58.3891637467381 -34.61118951106...  3041  202823   \n",
              "3041  MULTIPOINT ((-58.4468982834618 -34.65335419599...  3042  201748   \n",
              "3042  MULTIPOINT ((-58.3726475342244 -34.584270282112))  3043  201983   \n",
              "3043  MULTIPOINT ((-58.3853314707044 -34.62345388710...  3044  202824   \n",
              "3044  MULTIPOINT ((-58.3840085423109 -34.62092987739...  3045  201224   \n",
              "\n",
              "      cueanexo     cue  anexo  sector                       dom_edific  \\\n",
              "0     20153600  201536      0       1                 Carlos Berg 3460   \n",
              "1     20227000  202270      0       1           AgustÃ­n de Vedia 2519   \n",
              "2     20064600  200646      0       1                      Juncal 3131   \n",
              "3     20183300  201833      0       1           AgustÃ­n de Vedia 2519   \n",
              "4     20041900  200419      0       1                       Caracas 10   \n",
              "...        ...     ...    ...     ...                              ...   \n",
              "3040  20320900  203209      0       2               Adolfo Alsina 1609   \n",
              "3041  20210400  202104      0       1               Avda. Riestra 2860   \n",
              "3042  20319700  203197      0       2  Avda. AntÃ¡rtida Argentina 2085   \n",
              "3043  20321000  203210      0       2                  Cochabamba 1365   \n",
              "3044  20205000  202050      0       2                Humberto IÂº 1283   \n",
              "\n",
              "                           dom_establ  \\\n",
              "0                    Carlos Berg 3460   \n",
              "1     Cnel. Martiniano Chilavert 1935   \n",
              "2                         Juncal 3131   \n",
              "3              AgustÃ­n de Vedia 2519   \n",
              "4                          Caracas 10   \n",
              "...                               ...   \n",
              "3040               Adolfo Alsina 1609   \n",
              "3041               Avda. Riestra 2860   \n",
              "3042                Teodoro Feiss 330   \n",
              "3043                  Cochabamba 1365   \n",
              "3044                Humberto IÂº 1275   \n",
              "\n",
              "                                             nombre_est  ... depfun_otr  de  \\\n",
              "0                             DR. JOSE BENJAMIN ZUBIAUR  ...          1  19   \n",
              "1                                       EI NÂº 06 DE 19  ...          1  19   \n",
              "2                                       WENCESLAO POSSE  ...          1   1   \n",
              "3     ESC. DE EDUC. MEDIA NÂº 03 PROF. CARLOS GENISO...  ...          1  19   \n",
              "4                                      FLORENCIO VARELA  ...          1  12   \n",
              "...                                                 ...  ...        ...  ..   \n",
              "3040                                         CFP ADIMRA  ...          0   3   \n",
              "3041                   ASOCIACION ARGENTINA DE ARBITROS  ...          1  19   \n",
              "3042                                        LA MONEDITA  ...          1   1   \n",
              "3043                 CFP UTC y DRA- CARLOS PÃ‰REZ DATTI  ...          0   3   \n",
              "3044                              INSTITUTO SAN COLUMBA  ...          0   3   \n",
              "\n",
              "     comuna         barrio             area_progr estado         longitud  \\\n",
              "0       8.0  Villa Soldati        05 - HOSP PENNA      1  103.229.933.400   \n",
              "1       7.0         Flores      06 - HOSP PIÃ‘ERO      1  102.789.131.100   \n",
              "2      14.0        Palermo    04 - HOSP FERNANDEZ      1  105.002.246.800   \n",
              "3       7.0         Flores      06 - HOSP PIÃ‘ERO      1  102.789.131.100   \n",
              "4       7.0         Flores      06 - HOSP PIÃ‘ERO      1  100.170.817.500   \n",
              "...     ...            ...                    ...    ...              ...   \n",
              "3040    1.0     MONTSERRAT  08 - HOSP RAMOS MEJIA      4  106.799.593.000   \n",
              "3041    8.0  VILLA SOLDATI      06 - HOSP PIÃ‘ERO      4  101.503.571.300   \n",
              "3042    1.0         RETIRO    04 - HOSP FERNANDEZ      1  108.317.090.100   \n",
              "3043    1.0   CONSTITUCION  08 - HOSP RAMOS MEJIA      1  107.150.037.500   \n",
              "3044    1.0   CONSTITUCION  08 - HOSP RAMOS MEJIA      3  107.271.574.300   \n",
              "\n",
              "              latitud Unnamed: 29 Unnamed: 30  \n",
              "0      96.504.748.620         NaN         NaN  \n",
              "1      97.906.111.620         NaN         NaN  \n",
              "2     104.837.501.600         NaN         NaN  \n",
              "3      97.906.111.620         NaN         NaN  \n",
              "4     100.106.802.300         NaN         NaN  \n",
              "...               ...         ...         ...  \n",
              "3040  102.003.278.400         NaN         NaN  \n",
              "3041   97.328.133.180         NaN         NaN  \n",
              "3042  104.988.287.700         NaN         NaN  \n",
              "3043  100.642.484.100         NaN         NaN  \n",
              "3044  100.922.388.000         NaN         NaN  \n",
              "\n",
              "[3045 rows x 31 columns]"
            ],
            "text/html": [
              "\n",
              "  <div id=\"df-0e53f920-5849-4424-b771-26a76445f411\" class=\"colab-df-container\">\n",
              "    <div>\n",
              "<style scoped>\n",
              "    .dataframe tbody tr th:only-of-type {\n",
              "        vertical-align: middle;\n",
              "    }\n",
              "\n",
              "    .dataframe tbody tr th {\n",
              "        vertical-align: top;\n",
              "    }\n",
              "\n",
              "    .dataframe thead th {\n",
              "        text-align: right;\n",
              "    }\n",
              "</style>\n",
              "<table border=\"1\" class=\"dataframe\">\n",
              "  <thead>\n",
              "    <tr style=\"text-align: right;\">\n",
              "      <th></th>\n",
              "      <th>WKT</th>\n",
              "      <th>id</th>\n",
              "      <th>cui</th>\n",
              "      <th>cueanexo</th>\n",
              "      <th>cue</th>\n",
              "      <th>anexo</th>\n",
              "      <th>sector</th>\n",
              "      <th>dom_edific</th>\n",
              "      <th>dom_establ</th>\n",
              "      <th>nombre_est</th>\n",
              "      <th>...</th>\n",
              "      <th>depfun_otr</th>\n",
              "      <th>de</th>\n",
              "      <th>comuna</th>\n",
              "      <th>barrio</th>\n",
              "      <th>area_progr</th>\n",
              "      <th>estado</th>\n",
              "      <th>longitud</th>\n",
              "      <th>latitud</th>\n",
              "      <th>Unnamed: 29</th>\n",
              "      <th>Unnamed: 30</th>\n",
              "    </tr>\n",
              "  </thead>\n",
              "  <tbody>\n",
              "    <tr>\n",
              "      <th>0</th>\n",
              "      <td>MULTIPOINT ((-58.4280631417123 -34.66077257316...</td>\n",
              "      <td>1</td>\n",
              "      <td>200852</td>\n",
              "      <td>20153600</td>\n",
              "      <td>201536</td>\n",
              "      <td>0</td>\n",
              "      <td>1</td>\n",
              "      <td>Carlos Berg 3460</td>\n",
              "      <td>Carlos Berg 3460</td>\n",
              "      <td>DR. JOSE BENJAMIN ZUBIAUR</td>\n",
              "      <td>...</td>\n",
              "      <td>1</td>\n",
              "      <td>19</td>\n",
              "      <td>8.0</td>\n",
              "      <td>Villa Soldati</td>\n",
              "      <td>05 - HOSP PENNA</td>\n",
              "      <td>1</td>\n",
              "      <td>103.229.933.400</td>\n",
              "      <td>96.504.748.620</td>\n",
              "      <td>NaN</td>\n",
              "      <td>NaN</td>\n",
              "    </tr>\n",
              "    <tr>\n",
              "      <th>1</th>\n",
              "      <td>MULTIPOINT ((-58.4328765952925 -34.64814147013...</td>\n",
              "      <td>2</td>\n",
              "      <td>200871</td>\n",
              "      <td>20227000</td>\n",
              "      <td>202270</td>\n",
              "      <td>0</td>\n",
              "      <td>1</td>\n",
              "      <td>AgustÃ­n de Vedia 2519</td>\n",
              "      <td>Cnel. Martiniano Chilavert 1935</td>\n",
              "      <td>EI NÂº 06 DE 19</td>\n",
              "      <td>...</td>\n",
              "      <td>1</td>\n",
              "      <td>19</td>\n",
              "      <td>7.0</td>\n",
              "      <td>Flores</td>\n",
              "      <td>06 - HOSP PIÃ‘ERO</td>\n",
              "      <td>1</td>\n",
              "      <td>102.789.131.100</td>\n",
              "      <td>97.906.111.620</td>\n",
              "      <td>NaN</td>\n",
              "      <td>NaN</td>\n",
              "    </tr>\n",
              "    <tr>\n",
              "      <th>2</th>\n",
              "      <td>MULTIPOINT ((-58.4087767199078 -34.58565084604...</td>\n",
              "      <td>3</td>\n",
              "      <td>200014</td>\n",
              "      <td>20064600</td>\n",
              "      <td>200646</td>\n",
              "      <td>0</td>\n",
              "      <td>1</td>\n",
              "      <td>Juncal 3131</td>\n",
              "      <td>Juncal 3131</td>\n",
              "      <td>WENCESLAO POSSE</td>\n",
              "      <td>...</td>\n",
              "      <td>1</td>\n",
              "      <td>1</td>\n",
              "      <td>14.0</td>\n",
              "      <td>Palermo</td>\n",
              "      <td>04 - HOSP FERNANDEZ</td>\n",
              "      <td>1</td>\n",
              "      <td>105.002.246.800</td>\n",
              "      <td>104.837.501.600</td>\n",
              "      <td>NaN</td>\n",
              "      <td>NaN</td>\n",
              "    </tr>\n",
              "    <tr>\n",
              "      <th>3</th>\n",
              "      <td>MULTIPOINT ((-58.4328765952925 -34.64814147013...</td>\n",
              "      <td>4</td>\n",
              "      <td>200871</td>\n",
              "      <td>20183300</td>\n",
              "      <td>201833</td>\n",
              "      <td>0</td>\n",
              "      <td>1</td>\n",
              "      <td>AgustÃ­n de Vedia 2519</td>\n",
              "      <td>AgustÃ­n de Vedia 2519</td>\n",
              "      <td>ESC. DE EDUC. MEDIA NÂº 03 PROF. CARLOS GENISO...</td>\n",
              "      <td>...</td>\n",
              "      <td>1</td>\n",
              "      <td>19</td>\n",
              "      <td>7.0</td>\n",
              "      <td>Flores</td>\n",
              "      <td>06 - HOSP PIÃ‘ERO</td>\n",
              "      <td>1</td>\n",
              "      <td>102.789.131.100</td>\n",
              "      <td>97.906.111.620</td>\n",
              "      <td>NaN</td>\n",
              "      <td>NaN</td>\n",
              "    </tr>\n",
              "    <tr>\n",
              "      <th>4</th>\n",
              "      <td>MULTIPOINT ((-58.4614370361421 -34.62830726222...</td>\n",
              "      <td>5</td>\n",
              "      <td>200585</td>\n",
              "      <td>20041900</td>\n",
              "      <td>200419</td>\n",
              "      <td>0</td>\n",
              "      <td>1</td>\n",
              "      <td>Caracas 10</td>\n",
              "      <td>Caracas 10</td>\n",
              "      <td>FLORENCIO VARELA</td>\n",
              "      <td>...</td>\n",
              "      <td>1</td>\n",
              "      <td>12</td>\n",
              "      <td>7.0</td>\n",
              "      <td>Flores</td>\n",
              "      <td>06 - HOSP PIÃ‘ERO</td>\n",
              "      <td>1</td>\n",
              "      <td>100.170.817.500</td>\n",
              "      <td>100.106.802.300</td>\n",
              "      <td>NaN</td>\n",
              "      <td>NaN</td>\n",
              "    </tr>\n",
              "    <tr>\n",
              "      <th>...</th>\n",
              "      <td>...</td>\n",
              "      <td>...</td>\n",
              "      <td>...</td>\n",
              "      <td>...</td>\n",
              "      <td>...</td>\n",
              "      <td>...</td>\n",
              "      <td>...</td>\n",
              "      <td>...</td>\n",
              "      <td>...</td>\n",
              "      <td>...</td>\n",
              "      <td>...</td>\n",
              "      <td>...</td>\n",
              "      <td>...</td>\n",
              "      <td>...</td>\n",
              "      <td>...</td>\n",
              "      <td>...</td>\n",
              "      <td>...</td>\n",
              "      <td>...</td>\n",
              "      <td>...</td>\n",
              "      <td>...</td>\n",
              "      <td>...</td>\n",
              "    </tr>\n",
              "    <tr>\n",
              "      <th>3040</th>\n",
              "      <td>MULTIPOINT ((-58.3891637467381 -34.61118951106...</td>\n",
              "      <td>3041</td>\n",
              "      <td>202823</td>\n",
              "      <td>20320900</td>\n",
              "      <td>203209</td>\n",
              "      <td>0</td>\n",
              "      <td>2</td>\n",
              "      <td>Adolfo Alsina 1609</td>\n",
              "      <td>Adolfo Alsina 1609</td>\n",
              "      <td>CFP ADIMRA</td>\n",
              "      <td>...</td>\n",
              "      <td>0</td>\n",
              "      <td>3</td>\n",
              "      <td>1.0</td>\n",
              "      <td>MONTSERRAT</td>\n",
              "      <td>08 - HOSP RAMOS MEJIA</td>\n",
              "      <td>4</td>\n",
              "      <td>106.799.593.000</td>\n",
              "      <td>102.003.278.400</td>\n",
              "      <td>NaN</td>\n",
              "      <td>NaN</td>\n",
              "    </tr>\n",
              "    <tr>\n",
              "      <th>3041</th>\n",
              "      <td>MULTIPOINT ((-58.4468982834618 -34.65335419599...</td>\n",
              "      <td>3042</td>\n",
              "      <td>201748</td>\n",
              "      <td>20210400</td>\n",
              "      <td>202104</td>\n",
              "      <td>0</td>\n",
              "      <td>1</td>\n",
              "      <td>Avda. Riestra 2860</td>\n",
              "      <td>Avda. Riestra 2860</td>\n",
              "      <td>ASOCIACION ARGENTINA DE ARBITROS</td>\n",
              "      <td>...</td>\n",
              "      <td>1</td>\n",
              "      <td>19</td>\n",
              "      <td>8.0</td>\n",
              "      <td>VILLA SOLDATI</td>\n",
              "      <td>06 - HOSP PIÃ‘ERO</td>\n",
              "      <td>4</td>\n",
              "      <td>101.503.571.300</td>\n",
              "      <td>97.328.133.180</td>\n",
              "      <td>NaN</td>\n",
              "      <td>NaN</td>\n",
              "    </tr>\n",
              "    <tr>\n",
              "      <th>3042</th>\n",
              "      <td>MULTIPOINT ((-58.3726475342244 -34.584270282112))</td>\n",
              "      <td>3043</td>\n",
              "      <td>201983</td>\n",
              "      <td>20319700</td>\n",
              "      <td>203197</td>\n",
              "      <td>0</td>\n",
              "      <td>2</td>\n",
              "      <td>Avda. AntÃ¡rtida Argentina 2085</td>\n",
              "      <td>Teodoro Feiss 330</td>\n",
              "      <td>LA MONEDITA</td>\n",
              "      <td>...</td>\n",
              "      <td>1</td>\n",
              "      <td>1</td>\n",
              "      <td>1.0</td>\n",
              "      <td>RETIRO</td>\n",
              "      <td>04 - HOSP FERNANDEZ</td>\n",
              "      <td>1</td>\n",
              "      <td>108.317.090.100</td>\n",
              "      <td>104.988.287.700</td>\n",
              "      <td>NaN</td>\n",
              "      <td>NaN</td>\n",
              "    </tr>\n",
              "    <tr>\n",
              "      <th>3043</th>\n",
              "      <td>MULTIPOINT ((-58.3853314707044 -34.62345388710...</td>\n",
              "      <td>3044</td>\n",
              "      <td>202824</td>\n",
              "      <td>20321000</td>\n",
              "      <td>203210</td>\n",
              "      <td>0</td>\n",
              "      <td>2</td>\n",
              "      <td>Cochabamba 1365</td>\n",
              "      <td>Cochabamba 1365</td>\n",
              "      <td>CFP UTC y DRA- CARLOS PÃ‰REZ DATTI</td>\n",
              "      <td>...</td>\n",
              "      <td>0</td>\n",
              "      <td>3</td>\n",
              "      <td>1.0</td>\n",
              "      <td>CONSTITUCION</td>\n",
              "      <td>08 - HOSP RAMOS MEJIA</td>\n",
              "      <td>1</td>\n",
              "      <td>107.150.037.500</td>\n",
              "      <td>100.642.484.100</td>\n",
              "      <td>NaN</td>\n",
              "      <td>NaN</td>\n",
              "    </tr>\n",
              "    <tr>\n",
              "      <th>3044</th>\n",
              "      <td>MULTIPOINT ((-58.3840085423109 -34.62092987739...</td>\n",
              "      <td>3045</td>\n",
              "      <td>201224</td>\n",
              "      <td>20205000</td>\n",
              "      <td>202050</td>\n",
              "      <td>0</td>\n",
              "      <td>2</td>\n",
              "      <td>Humberto IÂº 1283</td>\n",
              "      <td>Humberto IÂº 1275</td>\n",
              "      <td>INSTITUTO SAN COLUMBA</td>\n",
              "      <td>...</td>\n",
              "      <td>0</td>\n",
              "      <td>3</td>\n",
              "      <td>1.0</td>\n",
              "      <td>CONSTITUCION</td>\n",
              "      <td>08 - HOSP RAMOS MEJIA</td>\n",
              "      <td>3</td>\n",
              "      <td>107.271.574.300</td>\n",
              "      <td>100.922.388.000</td>\n",
              "      <td>NaN</td>\n",
              "      <td>NaN</td>\n",
              "    </tr>\n",
              "  </tbody>\n",
              "</table>\n",
              "<p>3045 rows × 31 columns</p>\n",
              "</div>\n",
              "    <div class=\"colab-df-buttons\">\n",
              "\n",
              "  <div class=\"colab-df-container\">\n",
              "    <button class=\"colab-df-convert\" onclick=\"convertToInteractive('df-0e53f920-5849-4424-b771-26a76445f411')\"\n",
              "            title=\"Convert this dataframe to an interactive table.\"\n",
              "            style=\"display:none;\">\n",
              "\n",
              "  <svg xmlns=\"http://www.w3.org/2000/svg\" height=\"24px\" viewBox=\"0 -960 960 960\">\n",
              "    <path d=\"M120-120v-720h720v720H120Zm60-500h600v-160H180v160Zm220 220h160v-160H400v160Zm0 220h160v-160H400v160ZM180-400h160v-160H180v160Zm440 0h160v-160H620v160ZM180-180h160v-160H180v160Zm440 0h160v-160H620v160Z\"/>\n",
              "  </svg>\n",
              "    </button>\n",
              "\n",
              "  <style>\n",
              "    .colab-df-container {\n",
              "      display:flex;\n",
              "      gap: 12px;\n",
              "    }\n",
              "\n",
              "    .colab-df-convert {\n",
              "      background-color: #E8F0FE;\n",
              "      border: none;\n",
              "      border-radius: 50%;\n",
              "      cursor: pointer;\n",
              "      display: none;\n",
              "      fill: #1967D2;\n",
              "      height: 32px;\n",
              "      padding: 0 0 0 0;\n",
              "      width: 32px;\n",
              "    }\n",
              "\n",
              "    .colab-df-convert:hover {\n",
              "      background-color: #E2EBFA;\n",
              "      box-shadow: 0px 1px 2px rgba(60, 64, 67, 0.3), 0px 1px 3px 1px rgba(60, 64, 67, 0.15);\n",
              "      fill: #174EA6;\n",
              "    }\n",
              "\n",
              "    .colab-df-buttons div {\n",
              "      margin-bottom: 4px;\n",
              "    }\n",
              "\n",
              "    [theme=dark] .colab-df-convert {\n",
              "      background-color: #3B4455;\n",
              "      fill: #D2E3FC;\n",
              "    }\n",
              "\n",
              "    [theme=dark] .colab-df-convert:hover {\n",
              "      background-color: #434B5C;\n",
              "      box-shadow: 0px 1px 3px 1px rgba(0, 0, 0, 0.15);\n",
              "      filter: drop-shadow(0px 1px 2px rgba(0, 0, 0, 0.3));\n",
              "      fill: #FFFFFF;\n",
              "    }\n",
              "  </style>\n",
              "\n",
              "    <script>\n",
              "      const buttonEl =\n",
              "        document.querySelector('#df-0e53f920-5849-4424-b771-26a76445f411 button.colab-df-convert');\n",
              "      buttonEl.style.display =\n",
              "        google.colab.kernel.accessAllowed ? 'block' : 'none';\n",
              "\n",
              "      async function convertToInteractive(key) {\n",
              "        const element = document.querySelector('#df-0e53f920-5849-4424-b771-26a76445f411');\n",
              "        const dataTable =\n",
              "          await google.colab.kernel.invokeFunction('convertToInteractive',\n",
              "                                                    [key], {});\n",
              "        if (!dataTable) return;\n",
              "\n",
              "        const docLinkHtml = 'Like what you see? Visit the ' +\n",
              "          '<a target=\"_blank\" href=https://colab.research.google.com/notebooks/data_table.ipynb>data table notebook</a>'\n",
              "          + ' to learn more about interactive tables.';\n",
              "        element.innerHTML = '';\n",
              "        dataTable['output_type'] = 'display_data';\n",
              "        await google.colab.output.renderOutput(dataTable, element);\n",
              "        const docLink = document.createElement('div');\n",
              "        docLink.innerHTML = docLinkHtml;\n",
              "        element.appendChild(docLink);\n",
              "      }\n",
              "    </script>\n",
              "  </div>\n",
              "\n",
              "\n",
              "<div id=\"df-846553a9-7cc3-4836-8502-dfbfa9cefdea\">\n",
              "  <button class=\"colab-df-quickchart\" onclick=\"quickchart('df-846553a9-7cc3-4836-8502-dfbfa9cefdea')\"\n",
              "            title=\"Suggest charts\"\n",
              "            style=\"display:none;\">\n",
              "\n",
              "<svg xmlns=\"http://www.w3.org/2000/svg\" height=\"24px\"viewBox=\"0 0 24 24\"\n",
              "     width=\"24px\">\n",
              "    <g>\n",
              "        <path d=\"M19 3H5c-1.1 0-2 .9-2 2v14c0 1.1.9 2 2 2h14c1.1 0 2-.9 2-2V5c0-1.1-.9-2-2-2zM9 17H7v-7h2v7zm4 0h-2V7h2v10zm4 0h-2v-4h2v4z\"/>\n",
              "    </g>\n",
              "</svg>\n",
              "  </button>\n",
              "\n",
              "<style>\n",
              "  .colab-df-quickchart {\n",
              "      --bg-color: #E8F0FE;\n",
              "      --fill-color: #1967D2;\n",
              "      --hover-bg-color: #E2EBFA;\n",
              "      --hover-fill-color: #174EA6;\n",
              "      --disabled-fill-color: #AAA;\n",
              "      --disabled-bg-color: #DDD;\n",
              "  }\n",
              "\n",
              "  [theme=dark] .colab-df-quickchart {\n",
              "      --bg-color: #3B4455;\n",
              "      --fill-color: #D2E3FC;\n",
              "      --hover-bg-color: #434B5C;\n",
              "      --hover-fill-color: #FFFFFF;\n",
              "      --disabled-bg-color: #3B4455;\n",
              "      --disabled-fill-color: #666;\n",
              "  }\n",
              "\n",
              "  .colab-df-quickchart {\n",
              "    background-color: var(--bg-color);\n",
              "    border: none;\n",
              "    border-radius: 50%;\n",
              "    cursor: pointer;\n",
              "    display: none;\n",
              "    fill: var(--fill-color);\n",
              "    height: 32px;\n",
              "    padding: 0;\n",
              "    width: 32px;\n",
              "  }\n",
              "\n",
              "  .colab-df-quickchart:hover {\n",
              "    background-color: var(--hover-bg-color);\n",
              "    box-shadow: 0 1px 2px rgba(60, 64, 67, 0.3), 0 1px 3px 1px rgba(60, 64, 67, 0.15);\n",
              "    fill: var(--button-hover-fill-color);\n",
              "  }\n",
              "\n",
              "  .colab-df-quickchart-complete:disabled,\n",
              "  .colab-df-quickchart-complete:disabled:hover {\n",
              "    background-color: var(--disabled-bg-color);\n",
              "    fill: var(--disabled-fill-color);\n",
              "    box-shadow: none;\n",
              "  }\n",
              "\n",
              "  .colab-df-spinner {\n",
              "    border: 2px solid var(--fill-color);\n",
              "    border-color: transparent;\n",
              "    border-bottom-color: var(--fill-color);\n",
              "    animation:\n",
              "      spin 1s steps(1) infinite;\n",
              "  }\n",
              "\n",
              "  @keyframes spin {\n",
              "    0% {\n",
              "      border-color: transparent;\n",
              "      border-bottom-color: var(--fill-color);\n",
              "      border-left-color: var(--fill-color);\n",
              "    }\n",
              "    20% {\n",
              "      border-color: transparent;\n",
              "      border-left-color: var(--fill-color);\n",
              "      border-top-color: var(--fill-color);\n",
              "    }\n",
              "    30% {\n",
              "      border-color: transparent;\n",
              "      border-left-color: var(--fill-color);\n",
              "      border-top-color: var(--fill-color);\n",
              "      border-right-color: var(--fill-color);\n",
              "    }\n",
              "    40% {\n",
              "      border-color: transparent;\n",
              "      border-right-color: var(--fill-color);\n",
              "      border-top-color: var(--fill-color);\n",
              "    }\n",
              "    60% {\n",
              "      border-color: transparent;\n",
              "      border-right-color: var(--fill-color);\n",
              "    }\n",
              "    80% {\n",
              "      border-color: transparent;\n",
              "      border-right-color: var(--fill-color);\n",
              "      border-bottom-color: var(--fill-color);\n",
              "    }\n",
              "    90% {\n",
              "      border-color: transparent;\n",
              "      border-bottom-color: var(--fill-color);\n",
              "    }\n",
              "  }\n",
              "</style>\n",
              "\n",
              "  <script>\n",
              "    async function quickchart(key) {\n",
              "      const quickchartButtonEl =\n",
              "        document.querySelector('#' + key + ' button');\n",
              "      quickchartButtonEl.disabled = true;  // To prevent multiple clicks.\n",
              "      quickchartButtonEl.classList.add('colab-df-spinner');\n",
              "      try {\n",
              "        const charts = await google.colab.kernel.invokeFunction(\n",
              "            'suggestCharts', [key], {});\n",
              "      } catch (error) {\n",
              "        console.error('Error during call to suggestCharts:', error);\n",
              "      }\n",
              "      quickchartButtonEl.classList.remove('colab-df-spinner');\n",
              "      quickchartButtonEl.classList.add('colab-df-quickchart-complete');\n",
              "    }\n",
              "    (() => {\n",
              "      let quickchartButtonEl =\n",
              "        document.querySelector('#df-846553a9-7cc3-4836-8502-dfbfa9cefdea button');\n",
              "      quickchartButtonEl.style.display =\n",
              "        google.colab.kernel.accessAllowed ? 'block' : 'none';\n",
              "    })();\n",
              "  </script>\n",
              "</div>\n",
              "\n",
              "  <div id=\"id_94b8494a-9ba5-4fae-b5fd-1f87acb1ed24\">\n",
              "    <style>\n",
              "      .colab-df-generate {\n",
              "        background-color: #E8F0FE;\n",
              "        border: none;\n",
              "        border-radius: 50%;\n",
              "        cursor: pointer;\n",
              "        display: none;\n",
              "        fill: #1967D2;\n",
              "        height: 32px;\n",
              "        padding: 0 0 0 0;\n",
              "        width: 32px;\n",
              "      }\n",
              "\n",
              "      .colab-df-generate:hover {\n",
              "        background-color: #E2EBFA;\n",
              "        box-shadow: 0px 1px 2px rgba(60, 64, 67, 0.3), 0px 1px 3px 1px rgba(60, 64, 67, 0.15);\n",
              "        fill: #174EA6;\n",
              "      }\n",
              "\n",
              "      [theme=dark] .colab-df-generate {\n",
              "        background-color: #3B4455;\n",
              "        fill: #D2E3FC;\n",
              "      }\n",
              "\n",
              "      [theme=dark] .colab-df-generate:hover {\n",
              "        background-color: #434B5C;\n",
              "        box-shadow: 0px 1px 3px 1px rgba(0, 0, 0, 0.15);\n",
              "        filter: drop-shadow(0px 1px 2px rgba(0, 0, 0, 0.3));\n",
              "        fill: #FFFFFF;\n",
              "      }\n",
              "    </style>\n",
              "    <button class=\"colab-df-generate\" onclick=\"generateWithVariable('escuelas')\"\n",
              "            title=\"Generate code using this dataframe.\"\n",
              "            style=\"display:none;\">\n",
              "\n",
              "  <svg xmlns=\"http://www.w3.org/2000/svg\" height=\"24px\"viewBox=\"0 0 24 24\"\n",
              "       width=\"24px\">\n",
              "    <path d=\"M7,19H8.4L18.45,9,17,7.55,7,17.6ZM5,21V16.75L18.45,3.32a2,2,0,0,1,2.83,0l1.4,1.43a1.91,1.91,0,0,1,.58,1.4,1.91,1.91,0,0,1-.58,1.4L9.25,21ZM18.45,9,17,7.55Zm-12,3A5.31,5.31,0,0,0,4.9,8.1,5.31,5.31,0,0,0,1,6.5,5.31,5.31,0,0,0,4.9,4.9,5.31,5.31,0,0,0,6.5,1,5.31,5.31,0,0,0,8.1,4.9,5.31,5.31,0,0,0,12,6.5,5.46,5.46,0,0,0,6.5,12Z\"/>\n",
              "  </svg>\n",
              "    </button>\n",
              "    <script>\n",
              "      (() => {\n",
              "      const buttonEl =\n",
              "        document.querySelector('#id_94b8494a-9ba5-4fae-b5fd-1f87acb1ed24 button.colab-df-generate');\n",
              "      buttonEl.style.display =\n",
              "        google.colab.kernel.accessAllowed ? 'block' : 'none';\n",
              "\n",
              "      buttonEl.onclick = () => {\n",
              "        google.colab.notebook.generateWithVariable('escuelas');\n",
              "      }\n",
              "      })();\n",
              "    </script>\n",
              "  </div>\n",
              "\n",
              "    </div>\n",
              "  </div>\n"
            ],
            "application/vnd.google.colaboratory.intrinsic+json": {
              "type": "dataframe",
              "variable_name": "escuelas"
            }
          },
          "metadata": {},
          "execution_count": 48
        }
      ]
    },
    {
      "cell_type": "code",
      "source": [
        "#Importo un archivo de una carpeta de drive\n",
        "from google.colab import drive\n",
        "drive.mount('/content/drive')"
      ],
      "metadata": {
        "colab": {
          "base_uri": "https://localhost:8080/"
        },
        "id": "FnZRyK-JOGwI",
        "outputId": "700072d9-f058-41ef-c2fa-42ed3d9b578a"
      },
      "execution_count": 49,
      "outputs": [
        {
          "output_type": "stream",
          "name": "stdout",
          "text": [
            "Mounted at /content/drive\n"
          ]
        }
      ]
    },
    {
      "cell_type": "code",
      "source": [
        "# En Colab, clic en carpeta \"Archivos\" y ahi vamos a la carpeta drive/Mydrive. buecamos la carpeta con nuestros datasets. Clic derecho sobre el mismo, copiar ruta. Pegamos esa como lo muestra el código:\n",
        "escuelas2 = pd.read_csv('/content/drive/MyDrive/Colab Notebooks/datasets/establecimientos_educativos.csv', encoding = \"utf-8\", sep = \";\")"
      ],
      "metadata": {
        "id": "RNNRVXAvPJqs"
      },
      "execution_count": 51,
      "outputs": []
    },
    {
      "cell_type": "code",
      "source": [
        "escuelas2.tail()"
      ],
      "metadata": {
        "colab": {
          "base_uri": "https://localhost:8080/",
          "height": 496
        },
        "id": "g297FaP6PqNk",
        "outputId": "30655025-7ed8-4390-e24c-155d17544585"
      },
      "execution_count": 52,
      "outputs": [
        {
          "output_type": "execute_result",
          "data": {
            "text/plain": [
              "                                                    WKT    id     cui  \\\n",
              "3040  MULTIPOINT ((-58.3891637467381 -34.61118951106...  3041  202823   \n",
              "3041  MULTIPOINT ((-58.4468982834618 -34.65335419599...  3042  201748   \n",
              "3042  MULTIPOINT ((-58.3726475342244 -34.584270282112))  3043  201983   \n",
              "3043  MULTIPOINT ((-58.3853314707044 -34.62345388710...  3044  202824   \n",
              "3044  MULTIPOINT ((-58.3840085423109 -34.62092987739...  3045  201224   \n",
              "\n",
              "      cueanexo     cue  anexo  sector                       dom_edific  \\\n",
              "3040  20320900  203209      0       2               Adolfo Alsina 1609   \n",
              "3041  20210400  202104      0       1               Avda. Riestra 2860   \n",
              "3042  20319700  203197      0       2  Avda. AntÃ¡rtida Argentina 2085   \n",
              "3043  20321000  203210      0       2                  Cochabamba 1365   \n",
              "3044  20205000  202050      0       2                Humberto IÂº 1283   \n",
              "\n",
              "              dom_establ                          nombre_est  ... depfun_otr  \\\n",
              "3040  Adolfo Alsina 1609                          CFP ADIMRA  ...          0   \n",
              "3041  Avda. Riestra 2860    ASOCIACION ARGENTINA DE ARBITROS  ...          1   \n",
              "3042   Teodoro Feiss 330                         LA MONEDITA  ...          1   \n",
              "3043     Cochabamba 1365  CFP UTC y DRA- CARLOS PÃ‰REZ DATTI  ...          0   \n",
              "3044   Humberto IÂº 1275               INSTITUTO SAN COLUMBA  ...          0   \n",
              "\n",
              "      de comuna         barrio             area_progr estado         longitud  \\\n",
              "3040   3    1.0     MONTSERRAT  08 - HOSP RAMOS MEJIA      4  106.799.593.000   \n",
              "3041  19    8.0  VILLA SOLDATI      06 - HOSP PIÃ‘ERO      4  101.503.571.300   \n",
              "3042   1    1.0         RETIRO    04 - HOSP FERNANDEZ      1  108.317.090.100   \n",
              "3043   3    1.0   CONSTITUCION  08 - HOSP RAMOS MEJIA      1  107.150.037.500   \n",
              "3044   3    1.0   CONSTITUCION  08 - HOSP RAMOS MEJIA      3  107.271.574.300   \n",
              "\n",
              "              latitud Unnamed: 29 Unnamed: 30  \n",
              "3040  102.003.278.400         NaN         NaN  \n",
              "3041   97.328.133.180         NaN         NaN  \n",
              "3042  104.988.287.700         NaN         NaN  \n",
              "3043  100.642.484.100         NaN         NaN  \n",
              "3044  100.922.388.000         NaN         NaN  \n",
              "\n",
              "[5 rows x 31 columns]"
            ],
            "text/html": [
              "\n",
              "  <div id=\"df-5ee8e25b-1c9e-4245-8d7d-b21b3710f70a\" class=\"colab-df-container\">\n",
              "    <div>\n",
              "<style scoped>\n",
              "    .dataframe tbody tr th:only-of-type {\n",
              "        vertical-align: middle;\n",
              "    }\n",
              "\n",
              "    .dataframe tbody tr th {\n",
              "        vertical-align: top;\n",
              "    }\n",
              "\n",
              "    .dataframe thead th {\n",
              "        text-align: right;\n",
              "    }\n",
              "</style>\n",
              "<table border=\"1\" class=\"dataframe\">\n",
              "  <thead>\n",
              "    <tr style=\"text-align: right;\">\n",
              "      <th></th>\n",
              "      <th>WKT</th>\n",
              "      <th>id</th>\n",
              "      <th>cui</th>\n",
              "      <th>cueanexo</th>\n",
              "      <th>cue</th>\n",
              "      <th>anexo</th>\n",
              "      <th>sector</th>\n",
              "      <th>dom_edific</th>\n",
              "      <th>dom_establ</th>\n",
              "      <th>nombre_est</th>\n",
              "      <th>...</th>\n",
              "      <th>depfun_otr</th>\n",
              "      <th>de</th>\n",
              "      <th>comuna</th>\n",
              "      <th>barrio</th>\n",
              "      <th>area_progr</th>\n",
              "      <th>estado</th>\n",
              "      <th>longitud</th>\n",
              "      <th>latitud</th>\n",
              "      <th>Unnamed: 29</th>\n",
              "      <th>Unnamed: 30</th>\n",
              "    </tr>\n",
              "  </thead>\n",
              "  <tbody>\n",
              "    <tr>\n",
              "      <th>3040</th>\n",
              "      <td>MULTIPOINT ((-58.3891637467381 -34.61118951106...</td>\n",
              "      <td>3041</td>\n",
              "      <td>202823</td>\n",
              "      <td>20320900</td>\n",
              "      <td>203209</td>\n",
              "      <td>0</td>\n",
              "      <td>2</td>\n",
              "      <td>Adolfo Alsina 1609</td>\n",
              "      <td>Adolfo Alsina 1609</td>\n",
              "      <td>CFP ADIMRA</td>\n",
              "      <td>...</td>\n",
              "      <td>0</td>\n",
              "      <td>3</td>\n",
              "      <td>1.0</td>\n",
              "      <td>MONTSERRAT</td>\n",
              "      <td>08 - HOSP RAMOS MEJIA</td>\n",
              "      <td>4</td>\n",
              "      <td>106.799.593.000</td>\n",
              "      <td>102.003.278.400</td>\n",
              "      <td>NaN</td>\n",
              "      <td>NaN</td>\n",
              "    </tr>\n",
              "    <tr>\n",
              "      <th>3041</th>\n",
              "      <td>MULTIPOINT ((-58.4468982834618 -34.65335419599...</td>\n",
              "      <td>3042</td>\n",
              "      <td>201748</td>\n",
              "      <td>20210400</td>\n",
              "      <td>202104</td>\n",
              "      <td>0</td>\n",
              "      <td>1</td>\n",
              "      <td>Avda. Riestra 2860</td>\n",
              "      <td>Avda. Riestra 2860</td>\n",
              "      <td>ASOCIACION ARGENTINA DE ARBITROS</td>\n",
              "      <td>...</td>\n",
              "      <td>1</td>\n",
              "      <td>19</td>\n",
              "      <td>8.0</td>\n",
              "      <td>VILLA SOLDATI</td>\n",
              "      <td>06 - HOSP PIÃ‘ERO</td>\n",
              "      <td>4</td>\n",
              "      <td>101.503.571.300</td>\n",
              "      <td>97.328.133.180</td>\n",
              "      <td>NaN</td>\n",
              "      <td>NaN</td>\n",
              "    </tr>\n",
              "    <tr>\n",
              "      <th>3042</th>\n",
              "      <td>MULTIPOINT ((-58.3726475342244 -34.584270282112))</td>\n",
              "      <td>3043</td>\n",
              "      <td>201983</td>\n",
              "      <td>20319700</td>\n",
              "      <td>203197</td>\n",
              "      <td>0</td>\n",
              "      <td>2</td>\n",
              "      <td>Avda. AntÃ¡rtida Argentina 2085</td>\n",
              "      <td>Teodoro Feiss 330</td>\n",
              "      <td>LA MONEDITA</td>\n",
              "      <td>...</td>\n",
              "      <td>1</td>\n",
              "      <td>1</td>\n",
              "      <td>1.0</td>\n",
              "      <td>RETIRO</td>\n",
              "      <td>04 - HOSP FERNANDEZ</td>\n",
              "      <td>1</td>\n",
              "      <td>108.317.090.100</td>\n",
              "      <td>104.988.287.700</td>\n",
              "      <td>NaN</td>\n",
              "      <td>NaN</td>\n",
              "    </tr>\n",
              "    <tr>\n",
              "      <th>3043</th>\n",
              "      <td>MULTIPOINT ((-58.3853314707044 -34.62345388710...</td>\n",
              "      <td>3044</td>\n",
              "      <td>202824</td>\n",
              "      <td>20321000</td>\n",
              "      <td>203210</td>\n",
              "      <td>0</td>\n",
              "      <td>2</td>\n",
              "      <td>Cochabamba 1365</td>\n",
              "      <td>Cochabamba 1365</td>\n",
              "      <td>CFP UTC y DRA- CARLOS PÃ‰REZ DATTI</td>\n",
              "      <td>...</td>\n",
              "      <td>0</td>\n",
              "      <td>3</td>\n",
              "      <td>1.0</td>\n",
              "      <td>CONSTITUCION</td>\n",
              "      <td>08 - HOSP RAMOS MEJIA</td>\n",
              "      <td>1</td>\n",
              "      <td>107.150.037.500</td>\n",
              "      <td>100.642.484.100</td>\n",
              "      <td>NaN</td>\n",
              "      <td>NaN</td>\n",
              "    </tr>\n",
              "    <tr>\n",
              "      <th>3044</th>\n",
              "      <td>MULTIPOINT ((-58.3840085423109 -34.62092987739...</td>\n",
              "      <td>3045</td>\n",
              "      <td>201224</td>\n",
              "      <td>20205000</td>\n",
              "      <td>202050</td>\n",
              "      <td>0</td>\n",
              "      <td>2</td>\n",
              "      <td>Humberto IÂº 1283</td>\n",
              "      <td>Humberto IÂº 1275</td>\n",
              "      <td>INSTITUTO SAN COLUMBA</td>\n",
              "      <td>...</td>\n",
              "      <td>0</td>\n",
              "      <td>3</td>\n",
              "      <td>1.0</td>\n",
              "      <td>CONSTITUCION</td>\n",
              "      <td>08 - HOSP RAMOS MEJIA</td>\n",
              "      <td>3</td>\n",
              "      <td>107.271.574.300</td>\n",
              "      <td>100.922.388.000</td>\n",
              "      <td>NaN</td>\n",
              "      <td>NaN</td>\n",
              "    </tr>\n",
              "  </tbody>\n",
              "</table>\n",
              "<p>5 rows × 31 columns</p>\n",
              "</div>\n",
              "    <div class=\"colab-df-buttons\">\n",
              "\n",
              "  <div class=\"colab-df-container\">\n",
              "    <button class=\"colab-df-convert\" onclick=\"convertToInteractive('df-5ee8e25b-1c9e-4245-8d7d-b21b3710f70a')\"\n",
              "            title=\"Convert this dataframe to an interactive table.\"\n",
              "            style=\"display:none;\">\n",
              "\n",
              "  <svg xmlns=\"http://www.w3.org/2000/svg\" height=\"24px\" viewBox=\"0 -960 960 960\">\n",
              "    <path d=\"M120-120v-720h720v720H120Zm60-500h600v-160H180v160Zm220 220h160v-160H400v160Zm0 220h160v-160H400v160ZM180-400h160v-160H180v160Zm440 0h160v-160H620v160ZM180-180h160v-160H180v160Zm440 0h160v-160H620v160Z\"/>\n",
              "  </svg>\n",
              "    </button>\n",
              "\n",
              "  <style>\n",
              "    .colab-df-container {\n",
              "      display:flex;\n",
              "      gap: 12px;\n",
              "    }\n",
              "\n",
              "    .colab-df-convert {\n",
              "      background-color: #E8F0FE;\n",
              "      border: none;\n",
              "      border-radius: 50%;\n",
              "      cursor: pointer;\n",
              "      display: none;\n",
              "      fill: #1967D2;\n",
              "      height: 32px;\n",
              "      padding: 0 0 0 0;\n",
              "      width: 32px;\n",
              "    }\n",
              "\n",
              "    .colab-df-convert:hover {\n",
              "      background-color: #E2EBFA;\n",
              "      box-shadow: 0px 1px 2px rgba(60, 64, 67, 0.3), 0px 1px 3px 1px rgba(60, 64, 67, 0.15);\n",
              "      fill: #174EA6;\n",
              "    }\n",
              "\n",
              "    .colab-df-buttons div {\n",
              "      margin-bottom: 4px;\n",
              "    }\n",
              "\n",
              "    [theme=dark] .colab-df-convert {\n",
              "      background-color: #3B4455;\n",
              "      fill: #D2E3FC;\n",
              "    }\n",
              "\n",
              "    [theme=dark] .colab-df-convert:hover {\n",
              "      background-color: #434B5C;\n",
              "      box-shadow: 0px 1px 3px 1px rgba(0, 0, 0, 0.15);\n",
              "      filter: drop-shadow(0px 1px 2px rgba(0, 0, 0, 0.3));\n",
              "      fill: #FFFFFF;\n",
              "    }\n",
              "  </style>\n",
              "\n",
              "    <script>\n",
              "      const buttonEl =\n",
              "        document.querySelector('#df-5ee8e25b-1c9e-4245-8d7d-b21b3710f70a button.colab-df-convert');\n",
              "      buttonEl.style.display =\n",
              "        google.colab.kernel.accessAllowed ? 'block' : 'none';\n",
              "\n",
              "      async function convertToInteractive(key) {\n",
              "        const element = document.querySelector('#df-5ee8e25b-1c9e-4245-8d7d-b21b3710f70a');\n",
              "        const dataTable =\n",
              "          await google.colab.kernel.invokeFunction('convertToInteractive',\n",
              "                                                    [key], {});\n",
              "        if (!dataTable) return;\n",
              "\n",
              "        const docLinkHtml = 'Like what you see? Visit the ' +\n",
              "          '<a target=\"_blank\" href=https://colab.research.google.com/notebooks/data_table.ipynb>data table notebook</a>'\n",
              "          + ' to learn more about interactive tables.';\n",
              "        element.innerHTML = '';\n",
              "        dataTable['output_type'] = 'display_data';\n",
              "        await google.colab.output.renderOutput(dataTable, element);\n",
              "        const docLink = document.createElement('div');\n",
              "        docLink.innerHTML = docLinkHtml;\n",
              "        element.appendChild(docLink);\n",
              "      }\n",
              "    </script>\n",
              "  </div>\n",
              "\n",
              "\n",
              "<div id=\"df-382ecdd2-66d7-4e4b-96f4-af4c3629fca7\">\n",
              "  <button class=\"colab-df-quickchart\" onclick=\"quickchart('df-382ecdd2-66d7-4e4b-96f4-af4c3629fca7')\"\n",
              "            title=\"Suggest charts\"\n",
              "            style=\"display:none;\">\n",
              "\n",
              "<svg xmlns=\"http://www.w3.org/2000/svg\" height=\"24px\"viewBox=\"0 0 24 24\"\n",
              "     width=\"24px\">\n",
              "    <g>\n",
              "        <path d=\"M19 3H5c-1.1 0-2 .9-2 2v14c0 1.1.9 2 2 2h14c1.1 0 2-.9 2-2V5c0-1.1-.9-2-2-2zM9 17H7v-7h2v7zm4 0h-2V7h2v10zm4 0h-2v-4h2v4z\"/>\n",
              "    </g>\n",
              "</svg>\n",
              "  </button>\n",
              "\n",
              "<style>\n",
              "  .colab-df-quickchart {\n",
              "      --bg-color: #E8F0FE;\n",
              "      --fill-color: #1967D2;\n",
              "      --hover-bg-color: #E2EBFA;\n",
              "      --hover-fill-color: #174EA6;\n",
              "      --disabled-fill-color: #AAA;\n",
              "      --disabled-bg-color: #DDD;\n",
              "  }\n",
              "\n",
              "  [theme=dark] .colab-df-quickchart {\n",
              "      --bg-color: #3B4455;\n",
              "      --fill-color: #D2E3FC;\n",
              "      --hover-bg-color: #434B5C;\n",
              "      --hover-fill-color: #FFFFFF;\n",
              "      --disabled-bg-color: #3B4455;\n",
              "      --disabled-fill-color: #666;\n",
              "  }\n",
              "\n",
              "  .colab-df-quickchart {\n",
              "    background-color: var(--bg-color);\n",
              "    border: none;\n",
              "    border-radius: 50%;\n",
              "    cursor: pointer;\n",
              "    display: none;\n",
              "    fill: var(--fill-color);\n",
              "    height: 32px;\n",
              "    padding: 0;\n",
              "    width: 32px;\n",
              "  }\n",
              "\n",
              "  .colab-df-quickchart:hover {\n",
              "    background-color: var(--hover-bg-color);\n",
              "    box-shadow: 0 1px 2px rgba(60, 64, 67, 0.3), 0 1px 3px 1px rgba(60, 64, 67, 0.15);\n",
              "    fill: var(--button-hover-fill-color);\n",
              "  }\n",
              "\n",
              "  .colab-df-quickchart-complete:disabled,\n",
              "  .colab-df-quickchart-complete:disabled:hover {\n",
              "    background-color: var(--disabled-bg-color);\n",
              "    fill: var(--disabled-fill-color);\n",
              "    box-shadow: none;\n",
              "  }\n",
              "\n",
              "  .colab-df-spinner {\n",
              "    border: 2px solid var(--fill-color);\n",
              "    border-color: transparent;\n",
              "    border-bottom-color: var(--fill-color);\n",
              "    animation:\n",
              "      spin 1s steps(1) infinite;\n",
              "  }\n",
              "\n",
              "  @keyframes spin {\n",
              "    0% {\n",
              "      border-color: transparent;\n",
              "      border-bottom-color: var(--fill-color);\n",
              "      border-left-color: var(--fill-color);\n",
              "    }\n",
              "    20% {\n",
              "      border-color: transparent;\n",
              "      border-left-color: var(--fill-color);\n",
              "      border-top-color: var(--fill-color);\n",
              "    }\n",
              "    30% {\n",
              "      border-color: transparent;\n",
              "      border-left-color: var(--fill-color);\n",
              "      border-top-color: var(--fill-color);\n",
              "      border-right-color: var(--fill-color);\n",
              "    }\n",
              "    40% {\n",
              "      border-color: transparent;\n",
              "      border-right-color: var(--fill-color);\n",
              "      border-top-color: var(--fill-color);\n",
              "    }\n",
              "    60% {\n",
              "      border-color: transparent;\n",
              "      border-right-color: var(--fill-color);\n",
              "    }\n",
              "    80% {\n",
              "      border-color: transparent;\n",
              "      border-right-color: var(--fill-color);\n",
              "      border-bottom-color: var(--fill-color);\n",
              "    }\n",
              "    90% {\n",
              "      border-color: transparent;\n",
              "      border-bottom-color: var(--fill-color);\n",
              "    }\n",
              "  }\n",
              "</style>\n",
              "\n",
              "  <script>\n",
              "    async function quickchart(key) {\n",
              "      const quickchartButtonEl =\n",
              "        document.querySelector('#' + key + ' button');\n",
              "      quickchartButtonEl.disabled = true;  // To prevent multiple clicks.\n",
              "      quickchartButtonEl.classList.add('colab-df-spinner');\n",
              "      try {\n",
              "        const charts = await google.colab.kernel.invokeFunction(\n",
              "            'suggestCharts', [key], {});\n",
              "      } catch (error) {\n",
              "        console.error('Error during call to suggestCharts:', error);\n",
              "      }\n",
              "      quickchartButtonEl.classList.remove('colab-df-spinner');\n",
              "      quickchartButtonEl.classList.add('colab-df-quickchart-complete');\n",
              "    }\n",
              "    (() => {\n",
              "      let quickchartButtonEl =\n",
              "        document.querySelector('#df-382ecdd2-66d7-4e4b-96f4-af4c3629fca7 button');\n",
              "      quickchartButtonEl.style.display =\n",
              "        google.colab.kernel.accessAllowed ? 'block' : 'none';\n",
              "    })();\n",
              "  </script>\n",
              "</div>\n",
              "\n",
              "    </div>\n",
              "  </div>\n"
            ],
            "application/vnd.google.colaboratory.intrinsic+json": {
              "type": "dataframe"
            }
          },
          "metadata": {},
          "execution_count": 52
        }
      ]
    },
    {
      "cell_type": "markdown",
      "source": [
        "### Siguientes ejemplos para usar de manera local con visual studio code o similar (no usar estos códigos en Google Colab pq darán error en las rutas) Cambiar las rutas a las correspondientes a sus propios archivos"
      ],
      "metadata": {
        "id": "VScngm1ihVHA"
      }
    },
    {
      "cell_type": "code",
      "source": [
        "# Si el archivo está en otra carpeta debemos usar ruta absoluta (reemplazar entre paréntesis tu propia ruta)\n",
        "# agregamos \"r\" delante de la ruta para evitar el error de python \"(unicode error) 'unicodeescape'\"\n",
        "#exportaciones = pd.read_csv(r\"C:\\Users\\Teclab1\\OneDrive - TECLAB\\Análisis y visualización de datos\\ARCHIVOS API-1\\exportaciones.csv\", encoding = \"latin-1\")"
      ],
      "metadata": {
        "id": "GG5zjxHCmb-f"
      },
      "execution_count": 53,
      "outputs": []
    },
    {
      "cell_type": "code",
      "source": [
        "# Otra opción es utilizar la función os.chdir() de python\n",
        "#import os\n",
        "#os.chdir(r\"C:\\Users\\Teclab1\\OneDrive - TECLAB\\Análisis y visualización de datos\\ARCHIVOS API-1\")\n"
      ],
      "metadata": {
        "id": "nb83JKqjn7Rv"
      },
      "execution_count": 54,
      "outputs": []
    }
  ]
}